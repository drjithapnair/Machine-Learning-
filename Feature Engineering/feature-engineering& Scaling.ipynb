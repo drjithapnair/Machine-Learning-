{
 "cells": [
  {
   "cell_type": "code",
   "execution_count": 1,
   "id": "94a68a4d",
   "metadata": {},
   "outputs": [],
   "source": [
    "import pandas as pd\n",
    "import numpy as np\n",
    "from sklearn.preprocessing import LabelEncoder, OneHotEncoder, StandardScaler, MinMaxScaler\n",
    "from sklearn.compose import ColumnTransformer\n",
    "import warnings\n",
    "warnings.filterwarnings('ignore')"
   ]
  },
  {
   "cell_type": "code",
   "execution_count": 2,
   "id": "df153020",
   "metadata": {},
   "outputs": [
    {
     "name": "stdout",
     "output_type": "stream",
     "text": [
      "Original DataFrame head:\n",
      "    ID              Name  Age Department  Salary\n",
      "0  497  Charlie Martinez   45         IT   39866\n",
      "1  395       Diana Smith   49    Finance   73108\n",
      "2  590       Diana Davis   41    Finance   76486\n",
      "3  918     Charlie Jones   58         HR   36971\n",
      "4  654  George Rodriguez   26  Marketing  103445\n",
      "\n",
      "Original DataFrame info:\n",
      "<class 'pandas.core.frame.DataFrame'>\n",
      "RangeIndex: 1050 entries, 0 to 1049\n",
      "Data columns (total 5 columns):\n",
      " #   Column      Non-Null Count  Dtype \n",
      "---  ------      --------------  ----- \n",
      " 0   ID          1050 non-null   int64 \n",
      " 1   Name        1026 non-null   object\n",
      " 2   Age         1050 non-null   int64 \n",
      " 3   Department  1050 non-null   object\n",
      " 4   Salary      1050 non-null   int64 \n",
      "dtypes: int64(3), object(2)\n",
      "memory usage: 41.1+ KB\n",
      "None\n"
     ]
    }
   ],
   "source": [
    "# Read the data\n",
    "df = pd.read_csv('large_employee_data.csv')\n",
    "print(\"Original DataFrame head:\")\n",
    "print(df.head())\n",
    "print(\"\\nOriginal DataFrame info:\")\n",
    "print(df.info())"
   ]
  },
  {
   "cell_type": "code",
   "execution_count": 3,
   "id": "c87ae752",
   "metadata": {},
   "outputs": [
    {
     "name": "stdout",
     "output_type": "stream",
     "text": [
      "\n",
      "1. Label Encoding\n"
     ]
    }
   ],
   "source": [
    "# 1. Label Encoding\n",
    "print(\"\\n1. Label Encoding\")\n",
    "label_encoder = LabelEncoder()"
   ]
  },
  {
   "cell_type": "code",
   "execution_count": 4,
   "id": "f90ef955",
   "metadata": {},
   "outputs": [],
   "source": [
    "# Create a copy of the dataframe\n",
    "df_label = df.copy()"
   ]
  },
  {
   "cell_type": "code",
   "execution_count": 5,
   "id": "db0fa1bb",
   "metadata": {},
   "outputs": [],
   "source": [
    "# Apply label encoding to 'Department' and 'Name'\n",
    "df_label['Department_encoded'] = label_encoder.fit_transform(df['Department'])\n",
    "df_label['Name_encoded'] = label_encoder.fit_transform(df['Name'])"
   ]
  },
  {
   "cell_type": "code",
   "execution_count": 6,
   "id": "f0be00f3",
   "metadata": {},
   "outputs": [
    {
     "name": "stdout",
     "output_type": "stream",
     "text": [
      "\n",
      "DataFrame after label encoding:\n",
      "  Department  Department_encoded              Name  Name_encoded\n",
      "0         IT                   2  Charlie Martinez            24\n",
      "1    Finance                   0       Diana Smith            37\n",
      "2    Finance                   0       Diana Davis            30\n",
      "3         HR                   1     Charlie Jones            23\n",
      "4  Marketing                   3  George Rodriguez            66\n"
     ]
    }
   ],
   "source": [
    "print(\"\\nDataFrame after label encoding:\")\n",
    "print(df_label[['Department', 'Department_encoded', 'Name', 'Name_encoded']].head())"
   ]
  },
  {
   "cell_type": "code",
   "execution_count": 7,
   "id": "b89525a9",
   "metadata": {},
   "outputs": [
    {
     "name": "stdout",
     "output_type": "stream",
     "text": [
      "\n",
      "2. One-Hot Encoding\n"
     ]
    }
   ],
   "source": [
    "# 2. One-Hot Encoding\n",
    "print(\"\\n2. One-Hot Encoding\")\n",
    "# Initialize the OneHotEncoder\n",
    "onehot = OneHotEncoder(sparse_output=False)"
   ]
  },
  {
   "cell_type": "code",
   "execution_count": 8,
   "id": "37d8b0cd",
   "metadata": {},
   "outputs": [],
   "source": [
    "# Perform one-hot encoding on 'Department'\n",
    "department_encoded = onehot.fit_transform(df[['Department']])\n",
    "department_columns = onehot.get_feature_names_out(['Department'])"
   ]
  },
  {
   "cell_type": "code",
   "execution_count": 9,
   "id": "59974b34",
   "metadata": {},
   "outputs": [],
   "source": [
    "# Create DataFrame with one-hot encoded columns\n",
    "df_onehot = pd.concat([\n",
    "    df,\n",
    "    pd.DataFrame(department_encoded, columns=department_columns)\n",
    "], axis=1)"
   ]
  },
  {
   "cell_type": "code",
   "execution_count": 10,
   "id": "673f4529",
   "metadata": {},
   "outputs": [
    {
     "name": "stdout",
     "output_type": "stream",
     "text": [
      "\n",
      "DataFrame after one-hot encoding:\n",
      "    ID              Name  Age Department  Salary  Department_Finance  \\\n",
      "0  497  Charlie Martinez   45         IT   39866                 0.0   \n",
      "1  395       Diana Smith   49    Finance   73108                 1.0   \n",
      "2  590       Diana Davis   41    Finance   76486                 1.0   \n",
      "3  918     Charlie Jones   58         HR   36971                 0.0   \n",
      "4  654  George Rodriguez   26  Marketing  103445                 0.0   \n",
      "\n",
      "   Department_HR  Department_IT  Department_Marketing  Department_Operations  \\\n",
      "0            0.0            1.0                   0.0                    0.0   \n",
      "1            0.0            0.0                   0.0                    0.0   \n",
      "2            0.0            0.0                   0.0                    0.0   \n",
      "3            1.0            0.0                   0.0                    0.0   \n",
      "4            0.0            0.0                   1.0                    0.0   \n",
      "\n",
      "   Department_Sales  \n",
      "0               0.0  \n",
      "1               0.0  \n",
      "2               0.0  \n",
      "3               0.0  \n",
      "4               0.0  \n"
     ]
    }
   ],
   "source": [
    "print(\"\\nDataFrame after one-hot encoding:\")\n",
    "print(df_onehot.head())"
   ]
  },
  {
   "cell_type": "code",
   "execution_count": 11,
   "id": "d3139cbf",
   "metadata": {},
   "outputs": [
    {
     "name": "stdout",
     "output_type": "stream",
     "text": [
      "\n",
      "3. Feature Scaling\n"
     ]
    }
   ],
   "source": [
    "# 3. Feature Scaling\n",
    "print(\"\\n3. Feature Scaling\")"
   ]
  },
  {
   "cell_type": "code",
   "execution_count": 12,
   "id": "a1dc4248",
   "metadata": {},
   "outputs": [],
   "source": [
    "# Create copies for different scaling methods\n",
    "df_standard = df.copy()\n",
    "df_minmax = df.copy()"
   ]
  },
  {
   "cell_type": "code",
   "execution_count": 13,
   "id": "be24806a",
   "metadata": {},
   "outputs": [],
   "source": [
    "# Initialize scalers\n",
    "standard_scaler = StandardScaler()\n",
    "minmax_scaler = MinMaxScaler()"
   ]
  },
  {
   "cell_type": "code",
   "execution_count": 14,
   "id": "96d7078f",
   "metadata": {},
   "outputs": [],
   "source": [
    "# Standardization (z-score normalization)\n",
    "numeric_columns = ['Age', 'Salary']\n",
    "df_standard[['Age_standardized', 'Salary_standardized']] = standard_scaler.fit_transform(df[numeric_columns])"
   ]
  },
  {
   "cell_type": "code",
   "execution_count": 15,
   "id": "3dc870cd",
   "metadata": {},
   "outputs": [],
   "source": [
    "# Min-Max Normalization\n",
    "df_minmax[['Age_normalized', 'Salary_normalized']] = minmax_scaler.fit_transform(df[numeric_columns])"
   ]
  },
  {
   "cell_type": "code",
   "execution_count": 16,
   "id": "6230fb6d",
   "metadata": {},
   "outputs": [
    {
     "name": "stdout",
     "output_type": "stream",
     "text": [
      "\n",
      "Standardization results:\n",
      "Original vs Standardized values:\n",
      "   Original_Age  Standardized_Age  Original_Salary  Standardized_Salary\n",
      "0            45          0.157312            39866            -1.287893\n",
      "1            49          0.479454            73108             0.008795\n",
      "2            41         -0.164829            76486             0.140562\n",
      "3            58          1.204271            36971            -1.400820\n",
      "4            26         -1.372859           103445             1.192166\n"
     ]
    }
   ],
   "source": [
    "print(\"\\nStandardization results:\")\n",
    "print(\"Original vs Standardized values:\")\n",
    "print(pd.DataFrame({\n",
    "    'Original_Age': df['Age'],\n",
    "    'Standardized_Age': df_standard['Age_standardized'],\n",
    "    'Original_Salary': df['Salary'],\n",
    "    'Standardized_Salary': df_standard['Salary_standardized']\n",
    "}).head())"
   ]
  },
  {
   "cell_type": "code",
   "execution_count": 17,
   "id": "2f7f3c27",
   "metadata": {},
   "outputs": [
    {
     "name": "stdout",
     "output_type": "stream",
     "text": [
      "\n",
      "Min-Max Normalization results:\n",
      "Original vs Normalized values:\n",
      "   Original_Age  Normalized_Age  Original_Salary  Normalized_Salary\n",
      "0            45        0.547619            39866           0.108160\n",
      "1            49        0.642857            73108           0.478672\n",
      "2            41        0.452381            76486           0.516323\n",
      "3            58        0.857143            36971           0.075893\n",
      "4            26        0.095238           103445           0.816806\n"
     ]
    }
   ],
   "source": [
    "print(\"\\nMin-Max Normalization results:\")\n",
    "print(\"Original vs Normalized values:\")\n",
    "print(pd.DataFrame({\n",
    "    'Original_Age': df['Age'],\n",
    "    'Normalized_Age': df_minmax['Age_normalized'],\n",
    "    'Original_Salary': df['Salary'],\n",
    "    'Normalized_Salary': df_minmax['Salary_normalized']\n",
    "}).head())"
   ]
  },
  {
   "cell_type": "code",
   "execution_count": 18,
   "id": "ab22cb7c",
   "metadata": {},
   "outputs": [
    {
     "name": "stdout",
     "output_type": "stream",
     "text": [
      "\n",
      "4. Creating final feature-engineered dataset\n"
     ]
    }
   ],
   "source": [
    "# 4. Combining all features\n",
    "print(\"\\n4. Creating final feature-engineered dataset\")"
   ]
  },
  {
   "cell_type": "code",
   "execution_count": 19,
   "id": "545805df",
   "metadata": {},
   "outputs": [],
   "source": [
    "# Combine numeric features (standardized) with one-hot encoded categories\n",
    "final_df = pd.concat([\n",
    "    df_standard[['Age_standardized', 'Salary_standardized']],\n",
    "    pd.DataFrame(department_encoded, columns=department_columns),\n",
    "    df[['ID']]  # Keep the ID column\n",
    "], axis=1)"
   ]
  },
  {
   "cell_type": "code",
   "execution_count": 20,
   "id": "8e456e5b",
   "metadata": {},
   "outputs": [
    {
     "name": "stdout",
     "output_type": "stream",
     "text": [
      "\n",
      "Final feature-engineered dataset:\n",
      "   Age_standardized  Salary_standardized  Department_Finance  Department_HR  \\\n",
      "0          0.157312            -1.287893                 0.0            0.0   \n",
      "1          0.479454             0.008795                 1.0            0.0   \n",
      "2         -0.164829             0.140562                 1.0            0.0   \n",
      "3          1.204271            -1.400820                 0.0            1.0   \n",
      "4         -1.372859             1.192166                 0.0            0.0   \n",
      "\n",
      "   Department_IT  Department_Marketing  Department_Operations  \\\n",
      "0            1.0                   0.0                    0.0   \n",
      "1            0.0                   0.0                    0.0   \n",
      "2            0.0                   0.0                    0.0   \n",
      "3            0.0                   0.0                    0.0   \n",
      "4            0.0                   1.0                    0.0   \n",
      "\n",
      "   Department_Sales   ID  \n",
      "0               0.0  497  \n",
      "1               0.0  395  \n",
      "2               0.0  590  \n",
      "3               0.0  918  \n",
      "4               0.0  654  \n"
     ]
    }
   ],
   "source": [
    "print(\"\\nFinal feature-engineered dataset:\")\n",
    "print(final_df.head())"
   ]
  },
  {
   "cell_type": "code",
   "execution_count": 21,
   "id": "f1f27aec",
   "metadata": {},
   "outputs": [],
   "source": [
    "# 5. Save processed datasets\n",
    "df_label.to_csv('label_encoded_data.csv', index=False)\n",
    "df_onehot.to_csv('onehot_encoded_data.csv', index=False)\n",
    "df_standard.to_csv('standardized_data.csv', index=False)\n",
    "df_minmax.to_csv('normalized_data.csv', index=False)\n",
    "final_df.to_csv('final_engineered_data.csv', index=False)"
   ]
  },
  {
   "cell_type": "code",
   "execution_count": 22,
   "id": "550ff8b0",
   "metadata": {},
   "outputs": [
    {
     "name": "stdout",
     "output_type": "stream",
     "text": [
      "\n",
      "5. Summary Statistics\n",
      "\n",
      "Standardized features statistics:\n",
      "       Age_standardized  Salary_standardized\n",
      "count      1.050000e+03         1.050000e+03\n",
      "mean      -2.706829e-17        -1.454921e-16\n",
      "std        1.000477e+00         1.000477e+00\n",
      "min       -1.695000e+00        -1.666422e+00\n",
      "25%       -8.896468e-01        -8.445922e-01\n",
      "50%        7.677700e-02        -3.516680e-02\n",
      "75%        8.821302e-01         8.458276e-01\n",
      "max        1.687483e+00         1.833293e+00\n"
     ]
    }
   ],
   "source": [
    "# 6. Summary statistics\n",
    "print(\"\\n5. Summary Statistics\")\n",
    "print(\"\\nStandardized features statistics:\")\n",
    "print(final_df[['Age_standardized', 'Salary_standardized']].describe())"
   ]
  },
  {
   "cell_type": "code",
   "execution_count": 23,
   "id": "20bc4df7",
   "metadata": {},
   "outputs": [
    {
     "name": "stdout",
     "output_type": "stream",
     "text": [
      "\n",
      "Dataset Shapes:\n",
      "Original data: (1050, 5)\n",
      "Label encoded data: (1050, 7)\n",
      "One-hot encoded data: (1050, 11)\n",
      "Final engineered data: (1050, 9)\n"
     ]
    }
   ],
   "source": [
    "# Print shapes of all datasets\n",
    "print(\"\\nDataset Shapes:\")\n",
    "print(f\"Original data: {df.shape}\")\n",
    "print(f\"Label encoded data: {df_label.shape}\")\n",
    "print(f\"One-hot encoded data: {df_onehot.shape}\")\n",
    "print(f\"Final engineered data: {final_df.shape}\")"
   ]
  },
  {
   "cell_type": "code",
   "execution_count": 24,
   "id": "d2c0d0c8",
   "metadata": {},
   "outputs": [
    {
     "name": "stdout",
     "output_type": "stream",
     "text": [
      "\n",
      "Memory Usage of Different Encodings:\n",
      "Original data: 0.04 MB\n",
      "Label encoded data: 0.05 MB\n",
      "One-hot encoded data: 0.09 MB\n",
      "Final engineered data: 0.07 MB\n"
     ]
    }
   ],
   "source": [
    "# Print memory usage\n",
    "print(\"\\nMemory Usage of Different Encodings:\")\n",
    "print(f\"Original data: {df.memory_usage().sum() / 1024**2:.2f} MB\")\n",
    "print(f\"Label encoded data: {df_label.memory_usage().sum() / 1024**2:.2f} MB\")\n",
    "print(f\"One-hot encoded data: {df_onehot.memory_usage().sum() / 1024**2:.2f} MB\")\n",
    "print(f\"Final engineered data: {final_df.memory_usage().sum() / 1024**2:.2f} MB\")"
   ]
  }
 ],
 "metadata": {
  "jupytext": {
   "cell_metadata_filter": "-all",
   "main_language": "python",
   "notebook_metadata_filter": "-all"
  },
  "kernelspec": {
   "display_name": "Python 3 (ipykernel)",
   "language": "python",
   "name": "python3"
  },
  "language_info": {
   "codemirror_mode": {
    "name": "ipython",
    "version": 3
   },
   "file_extension": ".py",
   "mimetype": "text/x-python",
   "name": "python",
   "nbconvert_exporter": "python",
   "pygments_lexer": "ipython3",
   "version": "3.12.4"
  }
 },
 "nbformat": 4,
 "nbformat_minor": 5
}
