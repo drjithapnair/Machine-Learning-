{
 "cells": [
  {
   "cell_type": "code",
   "execution_count": null,
   "id": "a0830bcb",
   "metadata": {
    "lines_to_next_cell": 0
   },
   "outputs": [],
   "source": []
  },
  {
   "cell_type": "markdown",
   "id": "b9e52118",
   "metadata": {},
   "source": [
    "feature_engineering_scaling"
   ]
  },
  {
   "cell_type": "code",
   "execution_count": 2,
   "id": "44c9241c",
   "metadata": {},
   "outputs": [],
   "source": [
    "import pandas as pd\n",
    "from sklearn.preprocessing import LabelEncoder, OneHotEncoder, StandardScaler, MinMaxScaler"
   ]
  },
  {
   "cell_type": "code",
   "execution_count": 3,
   "id": "5458a380",
   "metadata": {},
   "outputs": [],
   "source": [
    "# Sample data\n",
    "data = {\n",
    "    'Color': ['Red', 'Green', 'Blue', 'Green', 'Red'],\n",
    "    'Size': ['S', 'M', 'L', 'M', 'S'],\n",
    "    'Price': [10, 20, 15, 22, 18]\n",
    "}\n",
    "df = pd.DataFrame(data)"
   ]
  },
  {
   "cell_type": "code",
   "execution_count": 4,
   "id": "32e5a63e",
   "metadata": {},
   "outputs": [],
   "source": [
    "# 1. Label Encoding\n",
    "label_encoder = LabelEncoder()\n",
    "df['Size_Encoded'] = label_encoder.fit_transform(df['Size'])"
   ]
  },
  {
   "cell_type": "code",
   "execution_count": 5,
   "id": "3685cdbe",
   "metadata": {},
   "outputs": [
    {
     "name": "stdout",
     "output_type": "stream",
     "text": [
      "Label Encoded 'Size':\n",
      "  Size  Size_Encoded\n",
      "0    S             2\n",
      "1    M             1\n",
      "2    L             0\n",
      "3    M             1\n",
      "4    S             2\n",
      "\n"
     ]
    }
   ],
   "source": [
    "print(\"Label Encoded 'Size':\")\n",
    "print(df[['Size', 'Size_Encoded']])\n",
    "print()"
   ]
  },
  {
   "cell_type": "code",
   "execution_count": 6,
   "id": "f6fc4f6f",
   "metadata": {},
   "outputs": [],
   "source": [
    "# 2. One-Hot Encoding\n",
    "onehot_encoder = pd.get_dummies(df['Color'], prefix='Color')\n",
    "df = pd.concat([df, onehot_encoder], axis=1)"
   ]
  },
  {
   "cell_type": "code",
   "execution_count": 7,
   "id": "909ab2f1",
   "metadata": {},
   "outputs": [
    {
     "name": "stdout",
     "output_type": "stream",
     "text": [
      "One-Hot Encoded 'Color':\n",
      "   Color Size  Price  Size_Encoded  Color_Blue  Color_Green  Color_Red\n",
      "0    Red    S     10             2       False        False       True\n",
      "1  Green    M     20             1       False         True      False\n",
      "2   Blue    L     15             0        True        False      False\n",
      "3  Green    M     22             1       False         True      False\n",
      "4    Red    S     18             2       False        False       True\n",
      "\n"
     ]
    }
   ],
   "source": [
    "print(\"One-Hot Encoded 'Color':\")\n",
    "print(df)\n",
    "print()"
   ]
  },
  {
   "cell_type": "code",
   "execution_count": 8,
   "id": "6bae726c",
   "metadata": {},
   "outputs": [],
   "source": [
    "# 3. Standardization\n",
    "scaler = StandardScaler()\n",
    "df['Price_Standardized'] = scaler.fit_transform(df[['Price']])"
   ]
  },
  {
   "cell_type": "code",
   "execution_count": 9,
   "id": "600c6b00",
   "metadata": {},
   "outputs": [
    {
     "name": "stdout",
     "output_type": "stream",
     "text": [
      "Standardized 'Price':\n",
      "   Price  Price_Standardized\n",
      "0     10           -1.668560\n",
      "1     20            0.715097\n",
      "2     15           -0.476731\n",
      "3     22            1.191828\n",
      "4     18            0.238366\n",
      "\n"
     ]
    }
   ],
   "source": [
    "print(\"Standardized 'Price':\")\n",
    "print(df[['Price', 'Price_Standardized']])\n",
    "print()"
   ]
  },
  {
   "cell_type": "code",
   "execution_count": 10,
   "id": "1b5428b7",
   "metadata": {},
   "outputs": [],
   "source": [
    "# 4. Normalization\n",
    "minmax_scaler = MinMaxScaler()\n",
    "df['Price_Normalized'] = minmax_scaler.fit_transform(df[['Price']])"
   ]
  },
  {
   "cell_type": "code",
   "execution_count": 11,
   "id": "b0f55738",
   "metadata": {},
   "outputs": [
    {
     "name": "stdout",
     "output_type": "stream",
     "text": [
      "Normalized 'Price':\n",
      "   Price  Price_Normalized\n",
      "0     10          0.000000\n",
      "1     20          0.833333\n",
      "2     15          0.416667\n",
      "3     22          1.000000\n",
      "4     18          0.666667\n"
     ]
    }
   ],
   "source": [
    "print(\"Normalized 'Price':\")\n",
    "print(df[['Price', 'Price_Normalized']])"
   ]
  }
 ],
 "metadata": {
  "jupytext": {
   "cell_metadata_filter": "-all",
   "main_language": "python",
   "notebook_metadata_filter": "-all"
  },
  "kernelspec": {
   "display_name": "Python 3 (ipykernel)",
   "language": "python",
   "name": "python3"
  },
  "language_info": {
   "codemirror_mode": {
    "name": "ipython",
    "version": 3
   },
   "file_extension": ".py",
   "mimetype": "text/x-python",
   "name": "python",
   "nbconvert_exporter": "python",
   "pygments_lexer": "ipython3",
   "version": "3.12.4"
  }
 },
 "nbformat": 4,
 "nbformat_minor": 5
}
