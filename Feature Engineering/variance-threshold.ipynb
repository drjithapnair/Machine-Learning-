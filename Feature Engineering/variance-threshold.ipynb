{
 "cells": [
  {
   "cell_type": "code",
   "execution_count": 2,
   "id": "3604080e",
   "metadata": {},
   "outputs": [],
   "source": [
    "import numpy as np\n",
    "import pandas as pd\n",
    "import matplotlib.pyplot as plt\n",
    "from sklearn.datasets import load_breast_cancer\n",
    "from sklearn.feature_selection import VarianceThreshold\n",
    "from sklearn.preprocessing import StandardScaler"
   ]
  },
  {
   "cell_type": "code",
   "execution_count": 3,
   "id": "13fc5fe6",
   "metadata": {},
   "outputs": [],
   "source": [
    "# 1. Load and prepare sample data\n",
    "data = load_breast_cancer()\n",
    "X = pd.DataFrame(data.data, columns=data.feature_names)\n",
    "y = data.target"
   ]
  },
  {
   "cell_type": "code",
   "execution_count": 4,
   "id": "dd41bde3",
   "metadata": {
    "lines_to_next_cell": 1
   },
   "outputs": [
    {
     "name": "stdout",
     "output_type": "stream",
     "text": [
      "Original dataset shape: (569, 30)\n",
      "\n",
      "Original variance of features:\n",
      "mean radius                    12.4189\n",
      "mean texture                   18.4989\n",
      "mean perimeter                590.4405\n",
      "mean area                  123843.5543\n",
      "mean smoothness                 0.0002\n",
      "mean compactness                0.0028\n",
      "mean concavity                  0.0064\n",
      "mean concave points             0.0015\n",
      "mean symmetry                   0.0008\n",
      "mean fractal dimension          0.0000\n",
      "radius error                    0.0769\n",
      "texture error                   0.3043\n",
      "perimeter error                 4.0879\n",
      "area error                   2069.4316\n",
      "smoothness error                0.0000\n",
      "compactness error               0.0003\n",
      "concavity error                 0.0009\n",
      "concave points error            0.0000\n",
      "symmetry error                  0.0001\n",
      "fractal dimension error         0.0000\n",
      "worst radius                   23.3602\n",
      "worst texture                  37.7765\n",
      "worst perimeter              1129.1308\n",
      "worst area                 324167.3851\n",
      "worst smoothness                0.0005\n",
      "worst compactness               0.0248\n",
      "worst concavity                 0.0435\n",
      "worst concave points            0.0043\n",
      "worst symmetry                  0.0038\n",
      "worst fractal dimension         0.0003\n",
      "dtype: float64\n"
     ]
    }
   ],
   "source": [
    "print(\"Original dataset shape:\", X.shape)\n",
    "print(\"\\nOriginal variance of features:\")\n",
    "print(X.var().round(4))"
   ]
  },
  {
   "cell_type": "code",
   "execution_count": 5,
   "id": "1bd720b0",
   "metadata": {
    "lines_to_next_cell": 1
   },
   "outputs": [],
   "source": [
    "# 2. Basic Variance Threshold\n",
    "def plot_variance_distribution(X):\n",
    "    plt.figure(figsize=(10, 6))\n",
    "    X.var().hist(bins=30)\n",
    "    plt.title('Distribution of Feature Variances')\n",
    "    plt.xlabel('Variance')\n",
    "    plt.ylabel('Frequency')\n",
    "    plt.show()"
   ]
  },
  {
   "cell_type": "code",
   "execution_count": 6,
   "id": "b1c6722c",
   "metadata": {},
   "outputs": [
    {
     "data": {
      "image/png": "[encoded data removed]",
      "text/plain": [
       "<Figure size 1000x600 with 1 Axes>"
      ]
     },
     "metadata": {},
     "output_type": "display_data"
    }
   ],
   "source": [
    "# Plot original variance distribution\n",
    "plot_variance_distribution(X)"
   ]
  },
  {
   "cell_type": "code",
   "execution_count": 7,
   "id": "6607de74",
   "metadata": {},
   "outputs": [],
   "source": [
    "# 3. Apply different variance thresholds and compare results\n",
    "thresholds = [0, 0.1, 0.5, 1.0, 2.0]\n",
    "results = {}"
   ]
  },
  {
   "cell_type": "code",
   "execution_count": 8,
   "id": "ae5c20dc",
   "metadata": {},
   "outputs": [],
   "source": [
    "for threshold in thresholds:\n",
    "    selector = VarianceThreshold(threshold=threshold)\n",
    "    X_selected = selector.fit_transform(X)\n",
    "    results[threshold] = {\n",
    "        'n_features': X_selected.shape[1],\n",
    "        'features': X.columns[selector.get_support()].tolist()\n",
    "    }"
   ]
  },
  {
   "cell_type": "code",
   "execution_count": 9,
   "id": "ceb087b7",
   "metadata": {},
   "outputs": [
    {
     "name": "stdout",
     "output_type": "stream",
     "text": [
      "\n",
      "Feature selection results with different thresholds:\n",
      "\n",
      "Threshold 0:\n",
      "Number of features selected: 30\n",
      "Selected features: ['mean radius', 'mean texture', 'mean perimeter', 'mean area', 'mean smoothness'] ...\n",
      "\n",
      "Threshold 0.1:\n",
      "Number of features selected: 11\n",
      "Selected features: ['mean radius', 'mean texture', 'mean perimeter', 'mean area', 'texture error'] ...\n",
      "\n",
      "Threshold 0.5:\n",
      "Number of features selected: 10\n",
      "Selected features: ['mean radius', 'mean texture', 'mean perimeter', 'mean area', 'perimeter error'] ...\n",
      "\n",
      "Threshold 1.0:\n",
      "Number of features selected: 10\n",
      "Selected features: ['mean radius', 'mean texture', 'mean perimeter', 'mean area', 'perimeter error'] ...\n",
      "\n",
      "Threshold 2.0:\n",
      "Number of features selected: 10\n",
      "Selected features: ['mean radius', 'mean texture', 'mean perimeter', 'mean area', 'perimeter error'] ...\n"
     ]
    }
   ],
   "source": [
    "print(\"\\nFeature selection results with different thresholds:\")\n",
    "for threshold, result in results.items():\n",
    "    print(f\"\\nThreshold {threshold}:\")\n",
    "    print(f\"Number of features selected: {result['n_features']}\")\n",
    "    print(\"Selected features:\", result['features'][:5], \"...\" if len(result['features']) > 5 else \"\")"
   ]
  },
  {
   "cell_type": "code",
   "execution_count": 10,
   "id": "497390f8",
   "metadata": {},
   "outputs": [],
   "source": [
    "# 4. Standardized data with Variance Threshold\n",
    "scaler = StandardScaler()\n",
    "X_scaled = pd.DataFrame(\n",
    "    scaler.fit_transform(X),\n",
    "    columns=X.columns\n",
    ")"
   ]
  },
  {
   "cell_type": "code",
   "execution_count": 11,
   "id": "c62aff49",
   "metadata": {},
   "outputs": [
    {
     "name": "stdout",
     "output_type": "stream",
     "text": [
      "\n",
      "Variance after standardization:\n",
      "mean radius                1.0018\n",
      "mean texture               1.0018\n",
      "mean perimeter             1.0018\n",
      "mean area                  1.0018\n",
      "mean smoothness            1.0018\n",
      "mean compactness           1.0018\n",
      "mean concavity             1.0018\n",
      "mean concave points        1.0018\n",
      "mean symmetry              1.0018\n",
      "mean fractal dimension     1.0018\n",
      "radius error               1.0018\n",
      "texture error              1.0018\n",
      "perimeter error            1.0018\n",
      "area error                 1.0018\n",
      "smoothness error           1.0018\n",
      "compactness error          1.0018\n",
      "concavity error            1.0018\n",
      "concave points error       1.0018\n",
      "symmetry error             1.0018\n",
      "fractal dimension error    1.0018\n",
      "worst radius               1.0018\n",
      "worst texture              1.0018\n",
      "worst perimeter            1.0018\n",
      "worst area                 1.0018\n",
      "worst smoothness           1.0018\n",
      "worst compactness          1.0018\n",
      "worst concavity            1.0018\n",
      "worst concave points       1.0018\n",
      "worst symmetry             1.0018\n",
      "worst fractal dimension    1.0018\n",
      "dtype: float64\n"
     ]
    }
   ],
   "source": [
    "print(\"\\nVariance after standardization:\")\n",
    "print(X_scaled.var().round(4))"
   ]
  },
  {
   "cell_type": "code",
   "execution_count": 12,
   "id": "a49a926b",
   "metadata": {},
   "outputs": [],
   "source": [
    "# Apply Variance Threshold on standardized data\n",
    "threshold = 0.01  # Much lower threshold for standardized data\n",
    "selector_scaled = VarianceThreshold(threshold=threshold)\n",
    "X_selected_scaled = selector_scaled.fit_transform(X_scaled)"
   ]
  },
  {
   "cell_type": "code",
   "execution_count": 13,
   "id": "3eb33fdc",
   "metadata": {},
   "outputs": [
    {
     "name": "stdout",
     "output_type": "stream",
     "text": [
      "\n",
      "After Variance Threshold (threshold=0.01) on standardized data:\n",
      "Number of features selected: 30\n",
      "Selected features: ['mean radius', 'mean texture', 'mean perimeter', 'mean area', 'mean smoothness'] ...\n"
     ]
    }
   ],
   "source": [
    "print(f\"\\nAfter Variance Threshold (threshold={threshold}) on standardized data:\")\n",
    "print(\"Number of features selected:\", X_selected_scaled.shape[1])\n",
    "selected_features = X_scaled.columns[selector_scaled.get_support()].tolist()\n",
    "print(\"Selected features:\", selected_features[:5], \"...\" if len(selected_features) > 5 else \"\")"
   ]
  },
  {
   "cell_type": "code",
   "execution_count": 14,
   "id": "288bdff4",
   "metadata": {},
   "outputs": [],
   "source": [
    "# 5. Demonstration with custom dataset including near-constant features\n",
    "# Create sample dataset with different variance levels\n",
    "np.random.seed(42)\n",
    "n_samples = 1000\n",
    "custom_data = pd.DataFrame({\n",
    "    'constant': [1] * n_samples,  # Variance = 0\n",
    "    'nearly_constant': [1] * (n_samples-1) + [2],  # Very low variance\n",
    "    'binary': np.random.choice([0, 1], n_samples),  # Binary feature\n",
    "    'normal': np.random.normal(0, 1, n_samples),  # Normal distribution\n",
    "    'uniform': np.random.uniform(0, 1, n_samples)  # Uniform distribution\n",
    "})"
   ]
  },
  {
   "cell_type": "code",
   "execution_count": 15,
   "id": "f1c75297",
   "metadata": {},
   "outputs": [
    {
     "name": "stdout",
     "output_type": "stream",
     "text": [
      "\n",
      "Custom dataset variances:\n",
      "constant           0.0000\n",
      "nearly_constant    0.0010\n",
      "binary             0.2502\n",
      "normal             1.0026\n",
      "uniform            0.0831\n",
      "dtype: float64\n"
     ]
    }
   ],
   "source": [
    "print(\"\\nCustom dataset variances:\")\n",
    "print(custom_data.var().round(4))"
   ]
  },
  {
   "cell_type": "code",
   "execution_count": 16,
   "id": "2091e0a7",
   "metadata": {},
   "outputs": [],
   "source": [
    "# Apply Variance Threshold to custom dataset\n",
    "selector_custom = VarianceThreshold(threshold=0.01)\n",
    "X_selected_custom = selector_custom.fit_transform(custom_data)"
   ]
  },
  {
   "cell_type": "code",
   "execution_count": 17,
   "id": "5d18beaf",
   "metadata": {},
   "outputs": [
    {
     "name": "stdout",
     "output_type": "stream",
     "text": [
      "\n",
      "Selected features from custom dataset:\n",
      "['binary', 'normal', 'uniform']\n"
     ]
    }
   ],
   "source": [
    "print(\"\\nSelected features from custom dataset:\")\n",
    "selected_features_custom = custom_data.columns[selector_custom.get_support()].tolist()\n",
    "print(selected_features_custom)"
   ]
  },
  {
   "cell_type": "code",
   "execution_count": 18,
   "id": "71ec1780",
   "metadata": {
    "lines_to_next_cell": 1
   },
   "outputs": [
    {
     "data": {
      "image/png": "[encoded data removed]",
      "text/plain": [
       "<Figure size 1200x600 with 1 Axes>"
      ]
     },
     "metadata": {},
     "output_type": "display_data"
    }
   ],
   "source": [
    "# 6. Visualization of feature variances\n",
    "plt.figure(figsize=(12, 6))\n",
    "variances = pd.Series(selector_custom.variances_, index=custom_data.columns)\n",
    "variances.sort_values().plot(kind='bar')\n",
    "plt.axhline(y=0.01, color='r', linestyle='--', label='Threshold')\n",
    "plt.title('Feature Variances with Threshold')\n",
    "plt.xlabel('Features')\n",
    "plt.ylabel('Variance')\n",
    "plt.legend()\n",
    "plt.xticks(rotation=45)\n",
    "plt.tight_layout()\n",
    "plt.show()"
   ]
  },
  {
   "cell_type": "code",
   "execution_count": 19,
   "id": "879d570c",
   "metadata": {
    "lines_to_next_cell": 1
   },
   "outputs": [],
   "source": [
    "# 7. Function to find optimal threshold based on desired feature reduction\n",
    "def find_optimal_threshold(X, target_n_features):\n",
    "    variances = X.var().sort_values()\n",
    "    if target_n_features >= len(variances):\n",
    "        return 0\n",
    "    return variances.iloc[-target_n_features] - 1e-10"
   ]
  },
  {
   "cell_type": "code",
   "execution_count": 20,
   "id": "795234ae",
   "metadata": {},
   "outputs": [],
   "source": [
    "# Example of finding optimal threshold\n",
    "target_features = 10\n",
    "optimal_threshold = find_optimal_threshold(X, target_features)\n",
    "selector_optimal = VarianceThreshold(threshold=optimal_threshold)\n",
    "X_selected_optimal = selector_optimal.fit_transform(X)"
   ]
  },
  {
   "cell_type": "code",
   "execution_count": 21,
   "id": "dcf6ba7d",
   "metadata": {},
   "outputs": [
    {
     "name": "stdout",
     "output_type": "stream",
     "text": [
      "\n",
      "Optimal threshold for 10 features: 4.0879\n",
      "Actual number of features selected: 9\n"
     ]
    }
   ],
   "source": [
    "print(f\"\\nOptimal threshold for {target_features} features: {optimal_threshold:.4f}\")\n",
    "print(\"Actual number of features selected:\", X_selected_optimal.shape[1])"
   ]
  }
 ],
 "metadata": {
  "jupytext": {
   "cell_metadata_filter": "-all",
   "main_language": "python",
   "notebook_metadata_filter": "-all"
  },
  "kernelspec": {
   "display_name": "Python 3 (ipykernel)",
   "language": "python",
   "name": "python3"
  },
  "language_info": {
   "codemirror_mode": {
    "name": "ipython",
    "version": 3
   },
   "file_extension": ".py",
   "mimetype": "text/x-python",
   "name": "python",
   "nbconvert_exporter": "python",
   "pygments_lexer": "ipython3",
   "version": "3.12.4"
  }
 },
 "nbformat": 4,
 "nbformat_minor": 5
}
