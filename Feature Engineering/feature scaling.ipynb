{
 "cells": [
  {
   "cell_type": "code",
   "execution_count": 1,
   "id": "5ba7a686",
   "metadata": {},
   "outputs": [],
   "source": [
    "import numpy as np\n",
    "import pandas as pd\n",
    "from sklearn.preprocessing import StandardScaler, MinMaxScaler, RobustScaler\n",
    "from sklearn.datasets import load_iris"
   ]
  },
  {
   "cell_type": "code",
   "execution_count": 2,
   "id": "fabf3cf1",
   "metadata": {},
   "outputs": [],
   "source": [
    "# Load sample data\n",
    "iris = load_iris()\n",
    "X = pd.DataFrame(iris.data, columns=iris.feature_names)"
   ]
  },
  {
   "cell_type": "code",
   "execution_count": 3,
   "id": "f6ec80fb",
   "metadata": {},
   "outputs": [],
   "source": [
    "# Create scalers\n",
    "standard_scaler = StandardScaler()\n",
    "minmax_scaler = MinMaxScaler()\n",
    "robust_scaler = RobustScaler()"
   ]
  },
  {
   "cell_type": "code",
   "execution_count": 4,
   "id": "bc69f825",
   "metadata": {},
   "outputs": [],
   "source": [
    "# Apply different scaling methods\n",
    "X_standardized = standard_scaler.fit_transform(X)\n",
    "X_normalized = minmax_scaler.fit_transform(X)\n",
    "X_robust = robust_scaler.fit_transform(X)"
   ]
  },
  {
   "cell_type": "code",
   "execution_count": 5,
   "id": "588df5f3",
   "metadata": {},
   "outputs": [],
   "source": [
    "# Convert to DataFrames for better visualization\n",
    "X_standardized = pd.DataFrame(X_standardized, columns=X.columns)\n",
    "X_normalized = pd.DataFrame(X_normalized, columns=X.columns)\n",
    "X_robust = pd.DataFrame(X_robust, columns=X.columns)"
   ]
  },
  {
   "cell_type": "code",
   "execution_count": 6,
   "id": "db5150c3",
   "metadata": {},
   "outputs": [
    {
     "name": "stdout",
     "output_type": "stream",
     "text": [
      "Original Data Statistics:\n",
      "       sepal length (cm)  sepal width (cm)  petal length (cm)  \\\n",
      "count             150.00            150.00             150.00   \n",
      "mean                5.84              3.06               3.76   \n",
      "std                 0.83              0.44               1.77   \n",
      "min                 4.30              2.00               1.00   \n",
      "25%                 5.10              2.80               1.60   \n",
      "50%                 5.80              3.00               4.35   \n",
      "75%                 6.40              3.30               5.10   \n",
      "max                 7.90              4.40               6.90   \n",
      "\n",
      "       petal width (cm)  \n",
      "count            150.00  \n",
      "mean               1.20  \n",
      "std                0.76  \n",
      "min                0.10  \n",
      "25%                0.30  \n",
      "50%                1.30  \n",
      "75%                1.80  \n",
      "max                2.50  \n",
      "\n",
      "==================================================\n",
      "\n"
     ]
    }
   ],
   "source": [
    "# Print original data statistics\n",
    "print(\"Original Data Statistics:\")\n",
    "print(X.describe().round(2))\n",
    "print(\"\\n\" + \"=\"*50 + \"\\n\")"
   ]
  },
  {
   "cell_type": "code",
   "execution_count": 7,
   "id": "62b62023",
   "metadata": {},
   "outputs": [
    {
     "name": "stdout",
     "output_type": "stream",
     "text": [
      "Standardized Data Statistics (StandardScaler):\n",
      "       sepal length (cm)  sepal width (cm)  petal length (cm)  \\\n",
      "count             150.00            150.00             150.00   \n",
      "mean               -0.00             -0.00              -0.00   \n",
      "std                 1.00              1.00               1.00   \n",
      "min                -1.87             -2.43              -1.57   \n",
      "25%                -0.90             -0.59              -1.23   \n",
      "50%                -0.05             -0.13               0.34   \n",
      "75%                 0.67              0.56               0.76   \n",
      "max                 2.49              3.09               1.79   \n",
      "\n",
      "       petal width (cm)  \n",
      "count            150.00  \n",
      "mean              -0.00  \n",
      "std                1.00  \n",
      "min               -1.45  \n",
      "25%               -1.18  \n",
      "50%                0.13  \n",
      "75%                0.79  \n",
      "max                1.71  \n",
      "\n",
      "==================================================\n",
      "\n"
     ]
    }
   ],
   "source": [
    "# Print standardized data statistics\n",
    "print(\"Standardized Data Statistics (StandardScaler):\")\n",
    "print(X_standardized.describe().round(2))\n",
    "print(\"\\n\" + \"=\"*50 + \"\\n\")"
   ]
  },
  {
   "cell_type": "code",
   "execution_count": 8,
   "id": "0fe2a9fb",
   "metadata": {},
   "outputs": [
    {
     "name": "stdout",
     "output_type": "stream",
     "text": [
      "Normalized Data Statistics (MinMaxScaler):\n",
      "       sepal length (cm)  sepal width (cm)  petal length (cm)  \\\n",
      "count             150.00            150.00             150.00   \n",
      "mean                0.43              0.44               0.47   \n",
      "std                 0.23              0.18               0.30   \n",
      "min                 0.00              0.00               0.00   \n",
      "25%                 0.22              0.33               0.10   \n",
      "50%                 0.42              0.42               0.57   \n",
      "75%                 0.58              0.54               0.69   \n",
      "max                 1.00              1.00               1.00   \n",
      "\n",
      "       petal width (cm)  \n",
      "count            150.00  \n",
      "mean               0.46  \n",
      "std                0.32  \n",
      "min                0.00  \n",
      "25%                0.08  \n",
      "50%                0.50  \n",
      "75%                0.71  \n",
      "max                1.00  \n",
      "\n",
      "==================================================\n",
      "\n"
     ]
    }
   ],
   "source": [
    "# Print normalized data statistics\n",
    "print(\"Normalized Data Statistics (MinMaxScaler):\")\n",
    "print(X_normalized.describe().round(2))\n",
    "print(\"\\n\" + \"=\"*50 + \"\\n\")"
   ]
  },
  {
   "cell_type": "code",
   "execution_count": 9,
   "id": "0b02ed98",
   "metadata": {},
   "outputs": [
    {
     "name": "stdout",
     "output_type": "stream",
     "text": [
      "Robust Scaled Data Statistics (RobustScaler):\n",
      "       sepal length (cm)  sepal width (cm)  petal length (cm)  \\\n",
      "count             150.00            150.00             150.00   \n",
      "mean                0.03              0.11              -0.17   \n",
      "std                 0.64              0.87               0.50   \n",
      "min                -1.15             -2.00              -0.96   \n",
      "25%                -0.54             -0.40              -0.79   \n",
      "50%                 0.00              0.00               0.00   \n",
      "75%                 0.46              0.60               0.21   \n",
      "max                 1.62              2.80               0.73   \n",
      "\n",
      "       petal width (cm)  \n",
      "count            150.00  \n",
      "mean              -0.07  \n",
      "std                0.51  \n",
      "min               -0.80  \n",
      "25%               -0.67  \n",
      "50%                0.00  \n",
      "75%                0.33  \n",
      "max                0.80  \n"
     ]
    }
   ],
   "source": [
    "# Print robust scaled data statistics\n",
    "print(\"Robust Scaled Data Statistics (RobustScaler):\")\n",
    "print(X_robust.describe().round(2))"
   ]
  },
  {
   "cell_type": "code",
   "execution_count": 10,
   "id": "5673306c",
   "metadata": {},
   "outputs": [],
   "source": [
    "# Example of scaling new data (like test set)\n",
    "# Create some new sample data\n",
    "new_data = np.array([\n",
    "    [5.0, 3.2, 1.5, 0.4],\n",
    "    [6.3, 2.8, 5.1, 1.9],\n",
    "])\n",
    "new_df = pd.DataFrame(new_data, columns=X.columns)"
   ]
  },
  {
   "cell_type": "code",
   "execution_count": 11,
   "id": "d3badf65",
   "metadata": {},
   "outputs": [],
   "source": [
    "# Transform new data using the fitted scalers\n",
    "new_standardized = standard_scaler.transform(new_df)\n",
    "new_normalized = minmax_scaler.transform(new_df)\n",
    "new_robust = robust_scaler.transform(new_df)"
   ]
  },
  {
   "cell_type": "code",
   "execution_count": 12,
   "id": "039b593d",
   "metadata": {},
   "outputs": [
    {
     "name": "stdout",
     "output_type": "stream",
     "text": [
      "\n",
      "==================================================\n",
      "\n",
      "Scaling New Data Example:\n",
      "\n",
      "Original New Data:\n",
      "   sepal length (cm)  sepal width (cm)  petal length (cm)  petal width (cm)\n",
      "0                5.0               3.2                1.5               0.4\n",
      "1                6.3               2.8                5.1               1.9\n",
      "\n",
      "Standardized New Data:\n",
      "   sepal length (cm)  sepal width (cm)  petal length (cm)  petal width (cm)\n",
      "0             -1.022             0.328             -1.283            -1.052\n",
      "1              0.553            -0.592              0.763             0.922\n",
      "\n",
      "Normalized New Data:\n",
      "   sepal length (cm)  sepal width (cm)  petal length (cm)  petal width (cm)\n",
      "0              0.194             0.500              0.085             0.125\n",
      "1              0.556             0.333              0.695             0.750\n",
      "\n",
      "Robust Scaled New Data:\n",
      "   sepal length (cm)  sepal width (cm)  petal length (cm)  petal width (cm)\n",
      "0             -0.615               0.4             -0.814              -0.6\n",
      "1              0.385              -0.4              0.214               0.4\n"
     ]
    }
   ],
   "source": [
    "print(\"\\n\" + \"=\"*50)\n",
    "print(\"\\nScaling New Data Example:\")\n",
    "print(\"\\nOriginal New Data:\")\n",
    "print(new_df)\n",
    "print(\"\\nStandardized New Data:\")\n",
    "print(pd.DataFrame(new_standardized, columns=X.columns).round(3))\n",
    "print(\"\\nNormalized New Data:\")\n",
    "print(pd.DataFrame(new_normalized, columns=X.columns).round(3))\n",
    "print(\"\\nRobust Scaled New Data:\")\n",
    "print(pd.DataFrame(new_robust, columns=X.columns).round(3))"
   ]
  }
 ],
 "metadata": {
  "jupytext": {
   "cell_metadata_filter": "-all",
   "main_language": "python",
   "notebook_metadata_filter": "-all"
  },
  "kernelspec": {
   "display_name": "Python 3 (ipykernel)",
   "language": "python",
   "name": "python3"
  },
  "language_info": {
   "codemirror_mode": {
    "name": "ipython",
    "version": 3
   },
   "file_extension": ".py",
   "mimetype": "text/x-python",
   "name": "python",
   "nbconvert_exporter": "python",
   "pygments_lexer": "ipython3",
   "version": "3.12.4"
  }
 },
 "nbformat": 4,
 "nbformat_minor": 5
}
