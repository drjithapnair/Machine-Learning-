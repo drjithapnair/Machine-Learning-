{
 "cells": [
  {
   "cell_type": "code",
   "execution_count": 3,
   "id": "6e0e57f9-5b3f-41a4-b9f8-54cd50d0eec0",
   "metadata": {},
   "outputs": [],
   "source": [
    "import pandas as pd\n",
    "import numpy as np\n",
    "import random"
   ]
  },
  {
   "cell_type": "code",
   "execution_count": 7,
   "id": "d27ba601-45e2-4eea-8cee-211e7fdbaa4b",
   "metadata": {},
   "outputs": [],
   "source": [
    "# Set random seed for reproducibility\n",
    "np.random.seed(42)\n",
    "\n",
    "# Generate 1000 rows of data\n",
    "n_rows = 1000\n",
    "\n",
    "# Create lists for each column\n",
    "ids = list(range(1, n_rows + 1))\n",
    "names = [f\"{random.choice(['John', 'Jane', 'Bob', 'Alice', 'Charlie', 'Diana', 'Ethan', 'Fiona', 'George', 'Hannah'])} {random.choice(['Smith', 'Johnson', 'Williams', 'Brown', 'Jones', 'Garcia', 'Miller', 'Davis', 'Rodriguez', 'Martinez'])}\" for _ in range(n_rows)]\n",
    "ages = np.random.randint(22, 65, n_rows)\n",
    "departments = np.random.choice(['IT', 'HR', 'Finance', 'Marketing', 'Sales', 'Operations'], n_rows)\n",
    "salaries = np.random.randint(30000, 120000, n_rows)\n",
    "\n",
    "# Introduce some missing values (but keep Age and Salary as integers)\n",
    "for i in range(n_rows):\n",
    "    if random.random() < 0.02:  # 2% chance of missing name\n",
    "        names[i] = None"
   ]
  },
  {
   "cell_type": "code",
   "execution_count": 9,
   "id": "19e6fa0a-92e0-49a4-b210-7f530a25bbe3",
   "metadata": {},
   "outputs": [
    {
     "name": "stdout",
     "output_type": "stream",
     "text": [
      "CSV file 'large_employee_data.csv' with 1000+ rows has been generated.\n",
      "    ID              Name  Age Department  Salary\n",
      "0  497  Charlie Martinez   45         IT   39866\n",
      "1  395       Diana Smith   49    Finance   73108\n",
      "2  590       Diana Davis   41    Finance   76486\n",
      "3  918     Charlie Jones   58         HR   36971\n",
      "4  654  George Rodriguez   26  Marketing  103445\n",
      "\n",
      "DataFrame Info:\n",
      "<class 'pandas.core.frame.DataFrame'>\n",
      "RangeIndex: 1050 entries, 0 to 1049\n",
      "Data columns (total 5 columns):\n",
      " #   Column      Non-Null Count  Dtype \n",
      "---  ------      --------------  ----- \n",
      " 0   ID          1050 non-null   int64 \n",
      " 1   Name        1026 non-null   object\n",
      " 2   Age         1050 non-null   int32 \n",
      " 3   Department  1050 non-null   object\n",
      " 4   Salary      1050 non-null   int32 \n",
      "dtypes: int32(2), int64(1), object(2)\n",
      "memory usage: 32.9+ KB\n",
      "None\n",
      "\n",
      "Missing values:\n",
      "ID             0\n",
      "Name          24\n",
      "Age            0\n",
      "Department     0\n",
      "Salary         0\n",
      "dtype: int64\n",
      "\n",
      "Total number of rows: 1050\n"
     ]
    }
   ],
   "source": [
    "# Create DataFrame\n",
    "df = pd.DataFrame({\n",
    "    'ID': ids,\n",
    "    'Name': names,\n",
    "    'Age': ages,\n",
    "    'Department': departments,\n",
    "    'Salary': salaries\n",
    "})\n",
    "\n",
    "# Introduce some duplicates\n",
    "n_duplicates = 50\n",
    "duplicate_indices = np.random.choice(n_rows, n_duplicates, replace=False)\n",
    "for idx in duplicate_indices:\n",
    "    dup_row = df.iloc[idx].copy()\n",
    "    dup_row['ID'] = n_rows + idx + 1\n",
    "    df = df._append(dup_row, ignore_index=True)\n",
    "\n",
    "# Shuffle the DataFrame\n",
    "df = df.sample(frac=1).reset_index(drop=True)\n",
    "\n",
    "# Save to CSV\n",
    "df.to_csv('large_employee_data.csv', index=False)\n",
    "\n",
    "print(\"CSV file 'large_employee_data.csv' with 1000+ rows has been generated.\")\n",
    "print(df.head())\n",
    "print(\"\\nDataFrame Info:\")\n",
    "print(df.info())\n",
    "print(\"\\nMissing values:\")\n",
    "print(df.isnull().sum())\n",
    "print(f\"\\nTotal number of rows: {len(df)}\")"
   ]
  },
  {
   "cell_type": "code",
   "execution_count": null,
   "id": "3218e1b9-659c-4f94-9e15-818a19c10b73",
   "metadata": {},
   "outputs": [],
   "source": []
  }
 ],
 "metadata": {
  "kernelspec": {
   "display_name": "Python 3 (ipykernel)",
   "language": "python",
   "name": "python3"
  },
  "language_info": {
   "codemirror_mode": {
    "name": "ipython",
    "version": 3
   },
   "file_extension": ".py",
   "mimetype": "text/x-python",
   "name": "python",
   "nbconvert_exporter": "python",
   "pygments_lexer": "ipython3",
   "version": "3.12.4"
  }
 },
 "nbformat": 4,
 "nbformat_minor": 5
}
