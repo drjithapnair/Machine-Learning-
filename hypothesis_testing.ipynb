{
 "cells": [
  {
   "cell_type": "code",
   "execution_count": 1,
   "id": "ac1b493d",
   "metadata": {
    "lines_to_next_cell": 1
   },
   "outputs": [],
   "source": [
    "import numpy as np\n",
    "from scipy import stats\n",
    "import matplotlib.pyplot as plt"
   ]
  },
  {
   "cell_type": "code",
   "execution_count": 2,
   "id": "5714abea",
   "metadata": {
    "lines_to_next_cell": 1
   },
   "outputs": [],
   "source": [
    "def print_section(title):\n",
    "    print(f\"\\n{'-'*60}\\n{title}\\n{'-'*60}\")"
   ]
  },
  {
   "cell_type": "code",
   "execution_count": 5,
   "id": "8bbd4307",
   "metadata": {},
   "outputs": [
    {
     "name": "stdout",
     "output_type": "stream",
     "text": [
      "\n",
      "------------------------------------------------------------\n",
      "1. One-Sample t-test\n",
      "------------------------------------------------------------\n",
      "H0: The sample mean is equal to the population mean\n",
      "H1: The sample mean is different from the population mean\n"
     ]
    }
   ],
   "source": [
    "# 1. One-Sample t-test\n",
    "print_section(\"1. One-Sample t-test\")\n",
    "print(\"H0: The sample mean is equal to the population mean\")\n",
    "print(\"H1: The sample mean is different from the population mean\")"
   ]
  },
  {
   "cell_type": "code",
   "execution_count": 7,
   "id": "4cd3feee",
   "metadata": {},
   "outputs": [],
   "source": [
    "np.random.seed(42)\n",
    "sample = np.random.normal(loc=52, scale=5, size=100)\n",
    "population_mean = 50"
   ]
  },
  {
   "cell_type": "code",
   "execution_count": 9,
   "id": "9a499114",
   "metadata": {},
   "outputs": [
    {
     "name": "stdout",
     "output_type": "stream",
     "text": [
      "t-statistic: 3.2610\n",
      "p-value: 0.0015\n"
     ]
    }
   ],
   "source": [
    "t_statistic, p_value = stats.ttest_1samp(sample, population_mean)\n",
    "print(f\"t-statistic: {t_statistic:.4f}\")\n",
    "print(f\"p-value: {p_value:.4f}\")"
   ]
  },
  {
   "cell_type": "code",
   "execution_count": 11,
   "id": "e91ad601",
   "metadata": {},
   "outputs": [
    {
     "name": "stdout",
     "output_type": "stream",
     "text": [
      "Reject H0: The sample mean is significantly different from 50\n"
     ]
    }
   ],
   "source": [
    "if p_value < 0.05:\n",
    "    print(\"Reject H0: The sample mean is significantly different from 50\")\n",
    "else:\n",
    "    print(\"Fail to reject H0: There's not enough evidence to conclude the sample mean is different from 50\")"
   ]
  },
  {
   "cell_type": "code",
   "execution_count": 13,
   "id": "d7773faa",
   "metadata": {},
   "outputs": [
    {
     "name": "stdout",
     "output_type": "stream",
     "text": [
      "\n",
      "------------------------------------------------------------\n",
      "2. Two-Sample t-test (Independent)\n",
      "------------------------------------------------------------\n",
      "H0: The means of two independent samples are equal\n",
      "H1: The means of two independent samples are different\n"
     ]
    }
   ],
   "source": [
    "# 2. Two-Sample t-test\n",
    "print_section(\"2. Two-Sample t-test (Independent)\")\n",
    "print(\"H0: The means of two independent samples are equal\")\n",
    "print(\"H1: The means of two independent samples are different\")"
   ]
  },
  {
   "cell_type": "code",
   "execution_count": 15,
   "id": "9fbcee38",
   "metadata": {},
   "outputs": [],
   "source": [
    "sample1 = np.random.normal(loc=50, scale=5, size=100)\n",
    "sample2 = np.random.normal(loc=52, scale=5, size=100)"
   ]
  },
  {
   "cell_type": "code",
   "execution_count": 17,
   "id": "bea709e7",
   "metadata": {},
   "outputs": [
    {
     "name": "stdout",
     "output_type": "stream",
     "text": [
      "t-statistic: -3.0650\n",
      "p-value: 0.0025\n"
     ]
    }
   ],
   "source": [
    "t_statistic, p_value = stats.ttest_ind(sample1, sample2)\n",
    "print(f\"t-statistic: {t_statistic:.4f}\")\n",
    "print(f\"p-value: {p_value:.4f}\")"
   ]
  },
  {
   "cell_type": "code",
   "execution_count": 19,
   "id": "98a3e5ce",
   "metadata": {},
   "outputs": [
    {
     "name": "stdout",
     "output_type": "stream",
     "text": [
      "Reject H0: The means of the two samples are significantly different\n"
     ]
    }
   ],
   "source": [
    "if p_value < 0.05:\n",
    "    print(\"Reject H0: The means of the two samples are significantly different\")\n",
    "else:\n",
    "    print(\"Fail to reject H0: There's not enough evidence to conclude the means are different\")"
   ]
  },
  {
   "cell_type": "code",
   "execution_count": 21,
   "id": "5a79cda5",
   "metadata": {},
   "outputs": [
    {
     "name": "stdout",
     "output_type": "stream",
     "text": [
      "\n",
      "------------------------------------------------------------\n",
      "3. Paired t-test\n",
      "------------------------------------------------------------\n",
      "H0: The mean difference between paired observations is zero\n",
      "H1: The mean difference between paired observations is not zero\n"
     ]
    }
   ],
   "source": [
    "# 3. Paired t-test\n",
    "print_section(\"3. Paired t-test\")\n",
    "print(\"H0: The mean difference between paired observations is zero\")\n",
    "print(\"H1: The mean difference between paired observations is not zero\")"
   ]
  },
  {
   "cell_type": "code",
   "execution_count": 23,
   "id": "b88c1981",
   "metadata": {},
   "outputs": [],
   "source": [
    "before = np.random.normal(loc=50, scale=5, size=100)\n",
    "after = before + np.random.normal(loc=2, scale=1, size=100)  # Simulating an effect"
   ]
  },
  {
   "cell_type": "code",
   "execution_count": 25,
   "id": "cad21bdc",
   "metadata": {},
   "outputs": [
    {
     "name": "stdout",
     "output_type": "stream",
     "text": [
      "t-statistic: -18.2753\n",
      "p-value: 0.0000\n"
     ]
    }
   ],
   "source": [
    "t_statistic, p_value = stats.ttest_rel(before, after)\n",
    "print(f\"t-statistic: {t_statistic:.4f}\")\n",
    "print(f\"p-value: {p_value:.4f}\")"
   ]
  },
  {
   "cell_type": "code",
   "execution_count": 27,
   "id": "5247ff3b",
   "metadata": {},
   "outputs": [
    {
     "name": "stdout",
     "output_type": "stream",
     "text": [
      "Reject H0: There's a significant difference between before and after\n"
     ]
    }
   ],
   "source": [
    "if p_value < 0.05:\n",
    "    print(\"Reject H0: There's a significant difference between before and after\")\n",
    "else:\n",
    "    print(\"Fail to reject H0: There's not enough evidence to conclude a difference\")"
   ]
  },
  {
   "cell_type": "code",
   "execution_count": 29,
   "id": "4f260a85",
   "metadata": {},
   "outputs": [
    {
     "name": "stdout",
     "output_type": "stream",
     "text": [
      "\n",
      "------------------------------------------------------------\n",
      "4. One-way ANOVA\n",
      "------------------------------------------------------------\n",
      "H0: All group means are equal\n",
      "H1: At least one group mean is different\n"
     ]
    }
   ],
   "source": [
    "# 4. One-way ANOVA\n",
    "print_section(\"4. One-way ANOVA\")\n",
    "print(\"H0: All group means are equal\")\n",
    "print(\"H1: At least one group mean is different\")"
   ]
  },
  {
   "cell_type": "code",
   "execution_count": 31,
   "id": "ede4d5e0",
   "metadata": {},
   "outputs": [],
   "source": [
    "group1 = np.random.normal(loc=50, scale=5, size=100)\n",
    "group2 = np.random.normal(loc=52, scale=5, size=100)\n",
    "group3 = np.random.normal(loc=51, scale=5, size=100)"
   ]
  },
  {
   "cell_type": "code",
   "execution_count": 33,
   "id": "e18e943a",
   "metadata": {},
   "outputs": [
    {
     "name": "stdout",
     "output_type": "stream",
     "text": [
      "F-statistic: 7.4700\n",
      "p-value: 0.0007\n"
     ]
    }
   ],
   "source": [
    "f_statistic, p_value = stats.f_oneway(group1, group2, group3)\n",
    "print(f\"F-statistic: {f_statistic:.4f}\")\n",
    "print(f\"p-value: {p_value:.4f}\")"
   ]
  },
  {
   "cell_type": "code",
   "execution_count": 35,
   "id": "664d76d3",
   "metadata": {},
   "outputs": [
    {
     "name": "stdout",
     "output_type": "stream",
     "text": [
      "Reject H0: At least one group mean is significantly different\n"
     ]
    }
   ],
   "source": [
    "if p_value < 0.05:\n",
    "    print(\"Reject H0: At least one group mean is significantly different\")\n",
    "else:\n",
    "    print(\"Fail to reject H0: There's not enough evidence to conclude any group mean is different\")"
   ]
  },
  {
   "cell_type": "code",
   "execution_count": 37,
   "id": "5b419666",
   "metadata": {},
   "outputs": [
    {
     "name": "stdout",
     "output_type": "stream",
     "text": [
      "\n",
      "------------------------------------------------------------\n",
      "5. Chi-square test of independence\n",
      "------------------------------------------------------------\n",
      "H0: There is no association between two categorical variables\n",
      "H1: There is an association between two categorical variables\n"
     ]
    }
   ],
   "source": [
    "# 5. Chi-square test of independence\n",
    "print_section(\"5. Chi-square test of independence\")\n",
    "print(\"H0: There is no association between two categorical variables\")\n",
    "print(\"H1: There is an association between two categorical variables\")"
   ]
  },
  {
   "cell_type": "code",
   "execution_count": 39,
   "id": "215ff115",
   "metadata": {},
   "outputs": [
    {
     "name": "stdout",
     "output_type": "stream",
     "text": [
      "Chi-square statistic: 7.9192\n",
      "p-value: 0.0049\n"
     ]
    }
   ],
   "source": [
    "observed = np.array([[30, 20], [15, 35]])\n",
    "chi2, p_value, dof, expected = stats.chi2_contingency(observed)\n",
    "print(f\"Chi-square statistic: {chi2:.4f}\")\n",
    "print(f\"p-value: {p_value:.4f}\")"
   ]
  },
  {
   "cell_type": "code",
   "execution_count": 41,
   "id": "36facf53",
   "metadata": {},
   "outputs": [
    {
     "name": "stdout",
     "output_type": "stream",
     "text": [
      "Reject H0: There is a significant association between the variables\n"
     ]
    }
   ],
   "source": [
    "if p_value < 0.05:\n",
    "    print(\"Reject H0: There is a significant association between the variables\")\n",
    "else:\n",
    "    print(\"Fail to reject H0: There's not enough evidence to conclude an association\")"
   ]
  },
  {
   "cell_type": "code",
   "execution_count": 43,
   "id": "3b1965d1",
   "metadata": {},
   "outputs": [
    {
     "name": "stdout",
     "output_type": "stream",
     "text": [
      "\n",
      "------------------------------------------------------------\n",
      "6. A/B Testing (Two-sample t-test)\n",
      "------------------------------------------------------------\n",
      "H0: There is no difference in mean conversion rates between A and B\n",
      "H1: There is a difference in mean conversion rates between A and B\n"
     ]
    }
   ],
   "source": [
    "# 6. A/B Testing (using two-sample t-test)\n",
    "print_section(\"6. A/B Testing (Two-sample t-test)\")\n",
    "print(\"H0: There is no difference in mean conversion rates between A and B\")\n",
    "print(\"H1: There is a difference in mean conversion rates between A and B\")"
   ]
  },
  {
   "cell_type": "code",
   "execution_count": 45,
   "id": "40ea189d",
   "metadata": {},
   "outputs": [],
   "source": [
    "np.random.seed(42)\n",
    "conversions_A = np.random.binomial(1, 0.10, size=1000)  # 10% conversion rate\n",
    "conversions_B = np.random.binomial(1, 0.12, size=1000)  # 12% conversion rate"
   ]
  },
  {
   "cell_type": "code",
   "execution_count": 47,
   "id": "c74c65f9",
   "metadata": {},
   "outputs": [
    {
     "name": "stdout",
     "output_type": "stream",
     "text": [
      "t-statistic: -0.8714\n",
      "p-value: 0.3836\n"
     ]
    }
   ],
   "source": [
    "t_statistic, p_value = stats.ttest_ind(conversions_A, conversions_B)\n",
    "print(f\"t-statistic: {t_statistic:.4f}\")\n",
    "print(f\"p-value: {p_value:.4f}\")"
   ]
  },
  {
   "cell_type": "code",
   "execution_count": 49,
   "id": "74064800",
   "metadata": {},
   "outputs": [
    {
     "name": "stdout",
     "output_type": "stream",
     "text": [
      "Fail to reject H0: There's not enough evidence to conclude a difference in conversion rates\n"
     ]
    }
   ],
   "source": [
    "if p_value < 0.05:\n",
    "    print(\"Reject H0: There is a significant difference in conversion rates\")\n",
    "else:\n",
    "    print(\"Fail to reject H0: There's not enough evidence to conclude a difference in conversion rates\")"
   ]
  },
  {
   "cell_type": "code",
   "execution_count": 51,
   "id": "08aa0ece",
   "metadata": {},
   "outputs": [
    {
     "name": "stdout",
     "output_type": "stream",
     "text": [
      "\n",
      "Conversion rate A: 10.00%\n",
      "Conversion rate B: 11.20%\n"
     ]
    }
   ],
   "source": [
    "print(\"\\nConversion rate A: {:.2%}\".format(np.mean(conversions_A)))\n",
    "print(\"Conversion rate B: {:.2%}\".format(np.mean(conversions_B)))"
   ]
  },
  {
   "cell_type": "code",
   "execution_count": 53,
   "id": "b218b7de",
   "metadata": {},
   "outputs": [
    {
     "data": {
      "image/png": "[encoded data removed]",
      "text/plain": [
       "<Figure size 1000x600 with 1 Axes>"
      ]
     },
     "metadata": {},
     "output_type": "display_data"
    }
   ],
   "source": [
    "# Visualize the results\n",
    "plt.figure(figsize=(10, 6))\n",
    "plt.bar(['A', 'B'], [np.mean(conversions_A), np.mean(conversions_B)])\n",
    "plt.title('A/B Test: Conversion Rates')\n",
    "plt.ylabel('Conversion Rate')\n",
    "plt.show()"
   ]
  },
  {
   "cell_type": "code",
   "execution_count": null,
   "id": "0feac97f-3ce7-434f-a04a-b305b71c53d0",
   "metadata": {},
   "outputs": [],
   "source": []
  },
  {
   "cell_type": "code",
   "execution_count": null,
   "id": "0f612a84-17f4-49ee-a37e-684be1f370bb",
   "metadata": {},
   "outputs": [],
   "source": []
  }
 ],
 "metadata": {
  "jupytext": {
   "cell_metadata_filter": "-all",
   "main_language": "python",
   "notebook_metadata_filter": "-all"
  },
  "kernelspec": {
   "display_name": "Python 3 (ipykernel)",
   "language": "python",
   "name": "python3"
  },
  "language_info": {
   "codemirror_mode": {
    "name": "ipython",
    "version": 3
   },
   "file_extension": ".py",
   "mimetype": "text/x-python",
   "name": "python",
   "nbconvert_exporter": "python",
   "pygments_lexer": "ipython3",
   "version": "3.12.4"
  }
 },
 "nbformat": 4,
 "nbformat_minor": 5
}
