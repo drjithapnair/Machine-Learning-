{
 "cells": [
  {
   "cell_type": "code",
   "execution_count": null,
   "id": "0f783b97",
   "metadata": {},
   "outputs": [],
   "source": [
    "import numpy as np\n",
    "import pandas as pd\n",
    "import matplotlib.pyplot as plt\n",
    "from sklearn.preprocessing import StandardScaler\n",
    "from sklearn.cluster import KMeans, DBSCAN\n",
    "from sklearn.decomposition import PCA\n",
    "from sklearn.metrics import silhouette_score"
   ]
  },
  {
   "cell_type": "code",
   "execution_count": null,
   "id": "f8cc6cc7",
   "metadata": {},
   "outputs": [],
   "source": [
    "# Generate Synthetic Customer Data\n",
    "np.random.seed(42)\n",
    "n_samples = 300"
   ]
  },
  {
   "cell_type": "code",
   "execution_count": null,
   "id": "2fe5d6b4",
   "metadata": {},
   "outputs": [],
   "source": [
    "# Simulate customer features\n",
    "age = np.random.normal(40, 15, n_samples)\n",
    "income = np.random.normal(60000, 20000, n_samples)\n",
    "spending_score = np.random.normal(50, 20, n_samples)"
   ]
  },
  {
   "cell_type": "code",
   "execution_count": null,
   "id": "35d554b6",
   "metadata": {},
   "outputs": [],
   "source": [
    "# Create DataFrame\n",
    "customers = pd.DataFrame({\n",
    "    'Age': age,\n",
    "    'Annual_Income': income,\n",
    "    'Spending_Score': spending_score\n",
    "})"
   ]
  },
  {
   "cell_type": "code",
   "execution_count": null,
   "id": "c49b199c",
   "metadata": {},
   "outputs": [],
   "source": [
    "# Preprocessing\n",
    "scaler = StandardScaler()\n",
    "X_scaled = scaler.fit_transform(customers)"
   ]
  },
  {
   "cell_type": "code",
   "execution_count": null,
   "id": "e528f7e3",
   "metadata": {
    "lines_to_next_cell": 1
   },
   "outputs": [],
   "source": [
    "# Dimensionality Reduction for Visualization\n",
    "pca = PCA(n_components=2)\n",
    "X_pca = pca.fit_transform(X_scaled)"
   ]
  },
  {
   "cell_type": "code",
   "execution_count": null,
   "id": "e5e5f851",
   "metadata": {
    "lines_to_next_cell": 1
   },
   "outputs": [],
   "source": [
    "# Multiple Clustering Techniques\n",
    "def apply_kmeans(X, n_clusters=3):\n",
    "    kmeans = KMeans(n_clusters=n_clusters, random_state=42)\n",
    "    kmeans_labels = kmeans.fit_predict(X)\n",
    "    return kmeans_labels, kmeans"
   ]
  },
  {
   "cell_type": "code",
   "execution_count": null,
   "id": "ac49b6f7",
   "metadata": {
    "lines_to_next_cell": 1
   },
   "outputs": [],
   "source": [
    "def apply_dbscan(X, eps=0.5, min_samples=5):\n",
    "    dbscan = DBSCAN(eps=eps, min_samples=min_samples)\n",
    "    dbscan_labels = dbscan.fit_predict(X)\n",
    "    return dbscan_labels, dbscan"
   ]
  },
  {
   "cell_type": "code",
   "execution_count": null,
   "id": "bb3f1351",
   "metadata": {
    "lines_to_next_cell": 1
   },
   "outputs": [],
   "source": [
    "# Visualization Function\n",
    "def plot_clusters(X, labels, title):\n",
    "    plt.figure(figsize=(10, 6))\n",
    "    scatter = plt.scatter(X[:, 0], X[:, 1], c=labels, cmap='viridis')\n",
    "    plt.title(title)\n",
    "    plt.colorbar(scatter)\n",
    "    plt.xlabel('First Principal Component')\n",
    "    plt.ylabel('Second Principal Component')\n",
    "    plt.show()"
   ]
  },
  {
   "cell_type": "code",
   "execution_count": null,
   "id": "41cea154",
   "metadata": {},
   "outputs": [],
   "source": [
    "# Apply KMeans\n",
    "kmeans_labels, kmeans_model = apply_kmeans(X_scaled)\n",
    "plot_clusters(X_pca, kmeans_labels, 'K-Means Clustering')"
   ]
  },
  {
   "cell_type": "code",
   "execution_count": null,
   "id": "1baee111",
   "metadata": {
    "lines_to_next_cell": 1
   },
   "outputs": [],
   "source": [
    "# Evaluate Clustering Performance\n",
    "kmeans_silhouette = silhouette_score(X_scaled, kmeans_labels)\n",
    "print(f\"K-Means Silhouette Score: {kmeans_silhouette:.4f}\")"
   ]
  },
  {
   "cell_type": "code",
   "execution_count": null,
   "id": "11e5db3f",
   "metadata": {
    "lines_to_next_cell": 1
   },
   "outputs": [],
   "source": [
    "# Cluster Statistics\n",
    "def cluster_statistics(data, labels, cluster_names):\n",
    "    clustered_data = data.copy()\n",
    "    clustered_data['Cluster'] = labels\n",
    "    \n",
    "    print(\"\\nCluster Statistics:\")\n",
    "    for cluster in cluster_names:\n",
    "        cluster_subset = clustered_data[clustered_data['Cluster'] == cluster]\n",
    "        print(f\"\\nCluster {cluster} Summary:\")\n",
    "        print(cluster_subset.describe())"
   ]
  },
  {
   "cell_type": "code",
   "execution_count": null,
   "id": "59897b3b",
   "metadata": {},
   "outputs": [],
   "source": [
    "cluster_statistics(customers, kmeans_labels, range(3))"
   ]
  },
  {
   "cell_type": "code",
   "execution_count": null,
   "id": "b2263512",
   "metadata": {},
   "outputs": [],
   "source": [
    "# Print Variance Explained by PCA\n",
    "print(\"\\nVariance Explained:\")\n",
    "print(f\"First Component: {pca.explained_variance_ratio_[0]*100:.2f}%\")\n",
    "print(f\"Second Component: {pca.explained_variance_ratio_[1]*100:.2f}%\")\n",
    "print(f\"Total: {sum(pca.explained_variance_ratio_)*100:.2f}%\")"
   ]
  }
 ],
 "metadata": {
  "jupytext": {
   "cell_metadata_filter": "-all",
   "main_language": "python",
   "notebook_metadata_filter": "-all"
  }
 },
 "nbformat": 4,
 "nbformat_minor": 5
}
